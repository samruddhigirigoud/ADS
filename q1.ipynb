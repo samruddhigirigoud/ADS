{
 "cells": [
  {
   "cell_type": "code",
   "execution_count": 1,
   "id": "0bfdab2c-1692-43e4-95c5-657d51009bdf",
   "metadata": {},
   "outputs": [
    {
     "name": "stdout",
     "output_type": "stream",
     "text": [
      "1\n",
      "1\n",
      "2\n",
      "False\n",
      "3\n",
      "True\n"
     ]
    }
   ],
   "source": [
    "class QueueUsingTwoStacks:\n",
    "    def __init__(self):\n",
    "        self.stack_enqueue = []  # Stack for enqueue operation\n",
    "        self.stack_dequeue = []  # Stack for dequeue operation\n",
    "\n",
    "    def enqueue(self, x):\n",
    "        self.stack_enqueue.append(x)\n",
    "\n",
    "    def dequeue(self):\n",
    "        if not self.stack_dequeue:\n",
    "            while self.stack_enqueue:\n",
    "                self.stack_dequeue.append(self.stack_enqueue.pop())\n",
    "        \n",
    "        if not self.stack_dequeue:\n",
    "            raise IndexError(\"Queue is empty\")\n",
    "        \n",
    "        return self.stack_dequeue.pop()\n",
    "\n",
    "    def peek(self):\n",
    "        if not self.stack_dequeue:\n",
    "            while self.stack_enqueue:\n",
    "                self.stack_dequeue.append(self.stack_enqueue.pop())\n",
    "        \n",
    "        if not self.stack_dequeue:\n",
    "            raise IndexError(\"Queue is empty\")\n",
    "        \n",
    "        return self.stack_dequeue[-1]\n",
    "    \n",
    "    def is_empty(self):\n",
    "        return not self.stack_enqueue and not self.stack_dequeue\n",
    "\n",
    "# Example usage:\n",
    "queue = QueueUsingTwoStacks()\n",
    "queue.enqueue(1)\n",
    "queue.enqueue(2)\n",
    "queue.enqueue(3)\n",
    "print(queue.peek())  # Output: 1\n",
    "print(queue.dequeue())  # Output: 1\n",
    "print(queue.dequeue())  # Output: 2\n",
    "print(queue.is_empty())  # Output: False\n",
    "print(queue.dequeue())  # Output: 3\n",
    "print(queue.is_empty())  # Output: True\n"
   ]
  },
  {
   "cell_type": "code",
   "execution_count": null,
   "id": "3eeb0101-f5e4-432e-b90b-72c9e852a3fb",
   "metadata": {},
   "outputs": [],
   "source": []
  }
 ],
 "metadata": {
  "kernelspec": {
   "display_name": "Python [conda env:base] *",
   "language": "python",
   "name": "conda-base-py"
  },
  "language_info": {
   "codemirror_mode": {
    "name": "ipython",
    "version": 3
   },
   "file_extension": ".py",
   "mimetype": "text/x-python",
   "name": "python",
   "nbconvert_exporter": "python",
   "pygments_lexer": "ipython3",
   "version": "3.12.7"
  }
 },
 "nbformat": 4,
 "nbformat_minor": 5
}
