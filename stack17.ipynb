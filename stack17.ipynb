{
 "cells": [
  {
   "cell_type": "code",
   "execution_count": null,
   "id": "6a715e0f-8a32-42e3-8f4f-de8295aa60fa",
   "metadata": {},
   "outputs": [],
   "source": [
    "from collections import deque\n",
    "\n",
    "class StackUsingQueues:\n",
    "    def __init__(self):\n",
    "        self.queue1 = deque()\n",
    "        self.queue2 = deque()\n",
    "    \n",
    "    def push(self, value):\n",
    "        self.queue1.append(value)\n",
    "    \n",
    "    def pop(self):\n",
    "        if self.is_empty():\n",
    "            return None\n",
    "        while len(self.queue1) > 1:\n",
    "            self.queue2.append(self.queue1.popleft())\n",
    "        popped_value = self.queue1.popleft()\n",
    "        self.queue1, self.queue2 = self.queue2, self.queue1  # Swap queues\n",
    "        return popped_value\n",
    "    \n",
    "    def peek(self):\n",
    "        if self.is_empty():\n",
    "            return None\n",
    "        while len(self.queue1) > 1:\n",
    "            self.queue2.append(self.queue1.popleft())\n",
    "        top_value = self.queue1.popleft()\n",
    "        self.queue2.append(top_value)\n",
    "        self.queue1, self.queue2 = self.queue2, self.queue1  # Swap queues\n",
    "        return top_value\n",
    "    \n",
    "    def is_empty(self):\n",
    "        return len(self.queue1) == 0\n",
    "    \n",
    "    def display(self):\n",
    "        print(\"Stack:\", list(self.queue1))\n",
    "\n",
    "# Example usage\n",
    "stack = StackUsingQueues()\n",
    "stack.push(1)\n",
    "stack.push(2)\n",
    "stack.push(3)\n",
    "stack.push(4)\n",
    "stack.push(5)\n",
    "\n",
    "print(\"Stack after pushes:\")\n",
    "stack.display()\n",
    "\n",
    "print(\"Popped Element:\", stack.pop())\n",
    "print(\"Stack after pop:\")\n",
    "stack.display()\n",
    "\n",
    "print(\"Top Element:\", stack.peek())"
   ]
  }
 ],
 "metadata": {
  "kernelspec": {
   "display_name": "Python 3 (ipykernel)",
   "language": "python",
   "name": "python3"
  },
  "language_info": {
   "codemirror_mode": {
    "name": "ipython",
    "version": 3
   },
   "file_extension": ".py",
   "mimetype": "text/x-python",
   "name": "python",
   "nbconvert_exporter": "python",
   "pygments_lexer": "ipython3",
   "version": "3.12.4"
  }
 },
 "nbformat": 4,
 "nbformat_minor": 5
}
