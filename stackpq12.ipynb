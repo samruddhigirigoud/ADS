{
 "cells": [
  {
   "cell_type": "code",
   "execution_count": 1,
   "id": "8e316aee-567d-4989-9cd8-4646e9124a1c",
   "metadata": {},
   "outputs": [
    {
     "name": "stdout",
     "output_type": "stream",
     "text": [
      "Original stack:\n",
      "[3, 1, 4, 2, 5]\n",
      "Sorted stack:\n",
      "[1, 2, 3, 4, 5]\n"
     ]
    }
   ],
   "source": [
    "class Stack:\n",
    "    def __init__(self):\n",
    "        self.stack = []\n",
    "    \n",
    "    def push(self, value):\n",
    "        self.stack.append(value)\n",
    "    \n",
    "    def pop(self):\n",
    "        if not self.is_empty():\n",
    "            return self.stack.pop()\n",
    "        return None\n",
    "    \n",
    "    def peek(self):\n",
    "        if not self.is_empty():\n",
    "            return self.stack[-1]\n",
    "        return None\n",
    "    \n",
    "    def is_empty(self):\n",
    "        return len(self.stack) == 0\n",
    "    \n",
    "    def size(self):\n",
    "        return len(self.stack)\n",
    "    \n",
    "    def sorted_insert(self, value):\n",
    "        if self.is_empty() or value > self.peek():\n",
    "            self.push(value)\n",
    "        else:\n",
    "            temp = self.pop()\n",
    "            self.sorted_insert(value)\n",
    "            self.push(temp)\n",
    "    \n",
    "    def sort_stack(self):\n",
    "        if not self.is_empty():\n",
    "            temp = self.pop()\n",
    "            self.sort_stack()\n",
    "            self.sorted_insert(temp)\n",
    "    \n",
    "    def display(self):\n",
    "        print(self.stack)\n",
    "\n",
    "# Example usage\n",
    "stack = Stack()\n",
    "stack.push(3)\n",
    "stack.push(1)\n",
    "stack.push(4)\n",
    "stack.push(2)\n",
    "stack.push(5)\n",
    "\n",
    "print(\"Original stack:\")\n",
    "stack.display()\n",
    "\n",
    "stack.sort_stack()\n",
    "\n",
    "print(\"Sorted stack:\")\n",
    "stack.display()"
   ]
  },
  {
   "cell_type": "code",
   "execution_count": null,
   "id": "b1f779fd-011a-4d94-9e62-6b291fdb3be6",
   "metadata": {},
   "outputs": [],
   "source": []
  }
 ],
 "metadata": {
  "kernelspec": {
   "display_name": "Python 3 (ipykernel)",
   "language": "python",
   "name": "python3"
  },
  "language_info": {
   "codemirror_mode": {
    "name": "ipython",
    "version": 3
   },
   "file_extension": ".py",
   "mimetype": "text/x-python",
   "name": "python",
   "nbconvert_exporter": "python",
   "pygments_lexer": "ipython3",
   "version": "3.12.4"
  }
 },
 "nbformat": 4,
 "nbformat_minor": 5
}
