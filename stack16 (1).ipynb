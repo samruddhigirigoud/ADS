{
 "cells": [
  {
   "cell_type": "code",
   "execution_count": null,
   "id": "63cd4a17-073e-4fbb-becb-c3e2d0d5b619",
   "metadata": {},
   "outputs": [],
   "source": [
    "class Stack:\n",
    "    def __init__(self):\n",
    "        self.stack = []\n",
    "    \n",
    "    def push(self, value):\n",
    "        self.stack.append(value)\n",
    "    \n",
    "    def pop(self):\n",
    "        if not self.is_empty():\n",
    "            return self.stack.pop()\n",
    "        return None\n",
    "    \n",
    "    def peek(self):\n",
    "        if not self.is_empty():\n",
    "            return self.stack[-1]\n",
    "        return None\n",
    "    \n",
    "    def is_empty(self):\n",
    "        return len(self.stack) == 0\n",
    "    \n",
    "    def size(self):\n",
    "        return len(self.stack)\n",
    "    \n",
    "    def remove_duplicates(self):\n",
    "        unique_elements = set()\n",
    "        new_stack = []\n",
    "        while not self.is_empty():\n",
    "            element = self.pop()\n",
    "            if element not in unique_elements:\n",
    "                unique_elements.add(element)\n",
    "                new_stack.append(element)\n",
    "        while new_stack:\n",
    "            self.push(new_stack.pop())\n",
    "    \n",
    "    def display(self):\n",
    "        print(\"Stack:\", self.stack)\n",
    "\n",
    "# Example usage\n",
    "stack = Stack()\n",
    "stack.push(1)\n",
    "stack.push(2)\n",
    "stack.push(3)\n",
    "stack.push(2)\n",
    "stack.push(4)\n",
    "stack.push(3)\n",
    "stack.push(5)\n",
    "\n",
    "print(\"Stack before removing duplicates:\")\n",
    "stack.display()\n",
    "\n",
    "stack.remove_duplicates()\n",
    "\n",
    "print(\"Stack after removing duplicates:\")\n",
    "stack.display()\n"
   ]
  }
 ],
 "metadata": {
  "kernelspec": {
   "display_name": "Python 3 (ipykernel)",
   "language": "python",
   "name": "python3"
  },
  "language_info": {
   "codemirror_mode": {
    "name": "ipython",
    "version": 3
   },
   "file_extension": ".py",
   "mimetype": "text/x-python",
   "name": "python",
   "nbconvert_exporter": "python",
   "pygments_lexer": "ipython3",
   "version": "3.12.4"
  }
 },
 "nbformat": 4,
 "nbformat_minor": 5
}
