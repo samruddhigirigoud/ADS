{
 "cells": [
  {
   "cell_type": "code",
   "execution_count": null,
   "id": "058572ba-1530-4ab1-9175-a02600151d73",
   "metadata": {},
   "outputs": [],
   "source": [
    "from collections import deque\n",
    "\n",
    "class Stack:\n",
    "    def __init__(self):\n",
    "        self.stack = []\n",
    "    \n",
    "    def push(self, value):\n",
    "        self.stack.append(value)\n",
    "    \n",
    "    def pop(self):\n",
    "        if not self.is_empty():\n",
    "            return self.stack.pop()\n",
    "        return None\n",
    "    \n",
    "    def is_empty(self):\n",
    "        return len(self.stack) == 0\n",
    "\n",
    "def reverse_queue(queue):\n",
    "    stack = Stack()\n",
    "    \n",
    "    while queue:\n",
    "        stack.push(queue.popleft())\n",
    "    \n",
    "    while not stack.is_empty():\n",
    "        queue.append(stack.pop())\n",
    "    \n",
    "    return queue\n",
    "\n",
    "# Example usage\n",
    "queue = deque([1, 2, 3, 4, 5])\n",
    "print(\"Original Queue:\", list(queue))\n",
    "queue = reverse_queue(queue)\n",
    "print(\"Reversed Queue:\", list(queue))\n"
   ]
  }
 ],
 "metadata": {
  "kernelspec": {
   "display_name": "Python 3 (ipykernel)",
   "language": "python",
   "name": "python3"
  },
  "language_info": {
   "codemirror_mode": {
    "name": "ipython",
    "version": 3
   },
   "file_extension": ".py",
   "mimetype": "text/x-python",
   "name": "python",
   "nbconvert_exporter": "python",
   "pygments_lexer": "ipython3",
   "version": "3.12.4"
  }
 },
 "nbformat": 4,
 "nbformat_minor": 5
}
